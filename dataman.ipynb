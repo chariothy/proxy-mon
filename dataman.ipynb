{
 "cells": [
  {
   "cell_type": "code",
   "execution_count": 53,
   "metadata": {},
   "outputs": [],
   "source": [
    "import rank\n",
    "import imp\n",
    "imp.reload(rank)\n",
    "import glob\n",
    "import re\n",
    "REG_DATE = re.compile(r'(\\d{8})_\\d{6}.json')\n",
    "frames = []\n",
    "for file in glob.glob('./data/*.json'):\n",
    "    match = REG_DATE.findall(file)\n",
    "    rank_date = match[0]\n",
    "    df_agg = rank.rank(rank.df_from_json(file))\n",
    "    df_agg['date'] = rank_date\n",
    "    df_agg['pos'] = df_agg.index\n",
    "    frames.append(df_agg)\n",
    "import pandas as pd\n",
    "dfh=pd.read_csv('./data/history.csv', index_col=0)\n",
    "all_frame = pd.concat([*frames, dfh])\n",
    "all_frame.to_csv('./data/history_2.csv')"
   ]
  },
  {
   "cell_type": "code",
   "execution_count": 57,
   "metadata": {},
   "outputs": [
    {
     "data": {
      "text/plain": [
       "0"
      ]
     },
     "execution_count": 57,
     "metadata": {},
     "output_type": "execute_result"
    }
   ],
   "source": [
    "dfh=pd.read_csv('./data/history.csv', index_col=0)\n",
    "dfh[dfh.date==20211103].pos.count()"
   ]
  },
  {
   "cell_type": "code",
   "execution_count": 60,
   "metadata": {},
   "outputs": [
    {
     "data": {
      "text/plain": [
       "20211105"
      ]
     },
     "execution_count": 60,
     "metadata": {},
     "output_type": "execute_result"
    }
   ],
   "source": [
    "from pybeans import utils as pu\n",
    "int(pu.today('%Y%m%d'))"
   ]
  }
 ],
 "metadata": {
  "interpreter": {
   "hash": "109bf0e838191ca20bc7234ea16937d27e4c11c0c8e67c0bd28327e7ee122db4"
  },
  "kernelspec": {
   "display_name": "Python 3.8.10 64-bit ('proxy-mon': conda)",
   "name": "python3"
  },
  "language_info": {
   "codemirror_mode": {
    "name": "ipython",
    "version": 3
   },
   "file_extension": ".py",
   "mimetype": "text/x-python",
   "name": "python",
   "nbconvert_exporter": "python",
   "pygments_lexer": "ipython3",
   "version": "3.8.10"
  },
  "orig_nbformat": 4
 },
 "nbformat": 4,
 "nbformat_minor": 2
}
